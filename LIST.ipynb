{
 "cells": [
  {
   "cell_type": "markdown",
   "metadata": {},
   "source": [
    "1.\tWrite a Program to interchange first and last elements in a list"
   ]
  },
  {
   "cell_type": "code",
   "execution_count": 1,
   "metadata": {},
   "outputs": [
    {
     "name": "stdout",
     "output_type": "stream",
     "text": [
      "[6, 2, 3, 4, 5, 1]\n"
     ]
    }
   ],
   "source": [
    "l = [ 1, 2, 3, 4, 5, 6 ]\n",
    "\n",
    "n = l[0]\n",
    "\n",
    "k = l[len(l) -1]\n",
    "\n",
    "l[0]= k \n",
    "l[len(l) -1] = n\n",
    "print(l)"
   ]
  },
  {
   "cell_type": "markdown",
   "metadata": {},
   "source": [
    "2.\tProgram to swap two elements in a list"
   ]
  },
  {
   "cell_type": "code",
   "execution_count": 1,
   "metadata": {},
   "outputs": [
    {
     "name": "stdout",
     "output_type": "stream",
     "text": [
      "['mayank', 'suneet']\n"
     ]
    }
   ],
   "source": [
    "str_list  = [ 'suneet',  'mayank']\n",
    "\n",
    "n = str_list[0]\n",
    "\n",
    "str_list[0]= str_list[len(str_list) -1]\n",
    "\n",
    "str_list[len(str_list) -1] = n\n",
    "\n",
    "print(str_list)"
   ]
  },
  {
   "cell_type": "markdown",
   "metadata": {},
   "source": [
    "3.\tSwap elements in String list"
   ]
  },
  {
   "cell_type": "code",
   "execution_count": 16,
   "metadata": {},
   "outputs": [
    {
     "name": "stdout",
     "output_type": "stream",
     "text": [
      "['mayank', 'paul', 'sahil', 'suneet']\n"
     ]
    }
   ],
   "source": [
    "str_list  = [ 'suneet', 'paul', 'sahil', 'mayank']\n",
    "\n",
    "n = str_list[0]\n",
    "\n",
    "str_list[0]= str_list[len(str_list) -1]\n",
    "\n",
    "str_list[len(str_list) -1] = n\n",
    "\n",
    "print(str_list)\n"
   ]
  },
  {
   "cell_type": "markdown",
   "metadata": {},
   "source": [
    "4.\tWays to find length of list"
   ]
  },
  {
   "cell_type": "code",
   "execution_count": 22,
   "metadata": {},
   "outputs": [
    {
     "data": {
      "text/plain": [
       "9"
      ]
     },
     "execution_count": 22,
     "metadata": {},
     "output_type": "execute_result"
    }
   ],
   "source": [
    "liist = [ 1, 2, 3 ,4 , 5, 6, 7, 8,9]\n",
    "\n",
    "len(liist)\n",
    "\n"
   ]
  },
  {
   "cell_type": "code",
   "execution_count": 23,
   "metadata": {},
   "outputs": [
    {
     "name": "stdout",
     "output_type": "stream",
     "text": [
      "9\n"
     ]
    }
   ],
   "source": [
    "size = 0 \n",
    "for i in liist:\n",
    "    size += 1\n",
    "\n",
    "print(size)\n"
   ]
  },
  {
   "cell_type": "markdown",
   "metadata": {},
   "source": [
    "5.\tMaximum of two numbers in Python"
   ]
  },
  {
   "cell_type": "code",
   "execution_count": 4,
   "metadata": {},
   "outputs": [
    {
     "name": "stdout",
     "output_type": "stream",
     "text": [
      "The maximum of 8\n"
     ]
    }
   ],
   "source": [
    "numbers = [3, 5, 2, 8, 1]\n",
    "\n",
    "max_value = max(numbers)\n",
    "\n",
    "print(\"The maximum of\" , max_value)"
   ]
  },
  {
   "cell_type": "markdown",
   "metadata": {},
   "source": [
    "6.\tMinimum of two numbers in Python"
   ]
  },
  {
   "cell_type": "code",
   "execution_count": 6,
   "metadata": {},
   "outputs": [
    {
     "name": "stdout",
     "output_type": "stream",
     "text": [
      "The minimum of 1\n"
     ]
    }
   ],
   "source": [
    "numbers = [3, 5, 2, 8, 1]\n",
    "\n",
    "min_value = min(numbers)\n",
    "\n",
    "print(\"The minimum of\" , min_value)"
   ]
  },
  {
   "cell_type": "markdown",
   "metadata": {},
   "source": [
    "7.\tWays to check if element exists in list"
   ]
  },
  {
   "cell_type": "code",
   "execution_count": 32,
   "metadata": {},
   "outputs": [
    {
     "data": {
      "text/plain": [
       "1"
      ]
     },
     "execution_count": 32,
     "metadata": {},
     "output_type": "execute_result"
    }
   ],
   "source": [
    "list_ =  [ 1,2,3,4,5,6,7,8]\n",
    "\n",
    "list_.index(2)"
   ]
  },
  {
   "cell_type": "code",
   "execution_count": 27,
   "metadata": {},
   "outputs": [
    {
     "name": "stdout",
     "output_type": "stream",
     "text": [
      "1\n"
     ]
    }
   ],
   "source": [
    "a = list_.count(2)\n",
    "print(a)  "
   ]
  },
  {
   "cell_type": "code",
   "execution_count": 29,
   "metadata": {},
   "outputs": [
    {
     "name": "stdout",
     "output_type": "stream",
     "text": [
      "2 is in the list\n"
     ]
    }
   ],
   "source": [
    "if 2 in list_:\n",
    "    print(\"2 is in the list\")\n",
    "else:\n",
    "    print(\"2 is not in the list\")"
   ]
  },
  {
   "cell_type": "markdown",
   "metadata": {},
   "source": [
    "8.\tDifferent ways to clear a list in Python"
   ]
  },
  {
   "cell_type": "code",
   "execution_count": 34,
   "metadata": {},
   "outputs": [
    {
     "name": "stdout",
     "output_type": "stream",
     "text": [
      "[]\n"
     ]
    }
   ],
   "source": [
    "LIST =  [ 'apple' , 'banana', 'cherry', 'orange' ]\n",
    "\n",
    "LIST.clear()\n",
    "print(LIST)"
   ]
  },
  {
   "cell_type": "code",
   "execution_count": 9,
   "metadata": {},
   "outputs": [
    {
     "name": "stdout",
     "output_type": "stream",
     "text": [
      "[]\n"
     ]
    }
   ],
   "source": [
    "LIST =  [ 'apple' , 'banana', 'cherry', 'orange' ]\n",
    "\n",
    "l = len(LIST)\n",
    "for i in range(l):\n",
    "    LIST.pop()\n",
    "\n",
    "print(LIST)"
   ]
  },
  {
   "cell_type": "code",
   "execution_count": 7,
   "metadata": {},
   "outputs": [
    {
     "name": "stdout",
     "output_type": "stream",
     "text": [
      "[2, 3, 4, 5, 6, 7, 8]\n",
      "[2, 4, 5, 6, 7, 8]\n",
      "[2, 4, 6, 7, 8]\n",
      "[2, 4, 6, 8]\n"
     ]
    }
   ],
   "source": [
    "LIST =  [ 1,2,3,4,5,6,7,8]\n",
    "\n",
    "for x in LIST:\n",
    "    LIST.remove(x)\n",
    "    print(LIST)\n"
   ]
  },
  {
   "cell_type": "code",
   "execution_count": null,
   "metadata": {},
   "outputs": [],
   "source": []
  },
  {
   "cell_type": "markdown",
   "metadata": {},
   "source": [
    "9.\tReversing a List"
   ]
  },
  {
   "cell_type": "code",
   "execution_count": 63,
   "metadata": {},
   "outputs": [
    {
     "name": "stdout",
     "output_type": "stream",
     "text": [
      "['orange', 'cherry', 'banana', 'apple']\n"
     ]
    }
   ],
   "source": [
    "LIST =  [ 'apple' , 'banana', 'cherry', 'orange' ]\n",
    "LIST.reverse()\n",
    "\n",
    "print(LIST)"
   ]
  },
  {
   "cell_type": "code",
   "execution_count": 64,
   "metadata": {},
   "outputs": [
    {
     "name": "stdout",
     "output_type": "stream",
     "text": [
      "['orange', 'cherry', 'banana', 'apple']\n"
     ]
    }
   ],
   "source": [
    "LIST =  [ 'apple' , 'banana', 'cherry', 'orange' ]\n",
    "LIST.sort(reverse=True)\n",
    "\n",
    "print(LIST)"
   ]
  },
  {
   "cell_type": "markdown",
   "metadata": {},
   "source": [
    "10.\tCloning or Copying a list"
   ]
  },
  {
   "cell_type": "code",
   "execution_count": 65,
   "metadata": {},
   "outputs": [
    {
     "name": "stdout",
     "output_type": "stream",
     "text": [
      "['apple', 'banana', 'cherry', 'orange']\n"
     ]
    }
   ],
   "source": [
    "LIST =  [ 'apple' , 'banana', 'cherry', 'orange' ]\n",
    "\n",
    "list_1 = LIST \n",
    "\n",
    "print(list_1)"
   ]
  },
  {
   "cell_type": "code",
   "execution_count": 67,
   "metadata": {},
   "outputs": [
    {
     "name": "stdout",
     "output_type": "stream",
     "text": [
      "['apple', 'banana', 'cherry', 'orange']\n"
     ]
    }
   ],
   "source": [
    "list_2 = LIST.copy()\n",
    " \n",
    "print(list_2)"
   ]
  },
  {
   "cell_type": "code",
   "execution_count": 68,
   "metadata": {},
   "outputs": [
    {
     "name": "stdout",
     "output_type": "stream",
     "text": [
      "['apple', 'banana', 'cherry', 'orange']\n"
     ]
    }
   ],
   "source": [
    "list_3 = []\n",
    "for x in LIST:\n",
    "    list_3.append(x)\n",
    "\n",
    "print(list_3)"
   ]
  },
  {
   "cell_type": "markdown",
   "metadata": {},
   "source": [
    "11.\tCount occurrences of an element in a list"
   ]
  },
  {
   "cell_type": "code",
   "execution_count": 69,
   "metadata": {},
   "outputs": [
    {
     "data": {
      "text/plain": [
       "1"
      ]
     },
     "execution_count": 69,
     "metadata": {},
     "output_type": "execute_result"
    }
   ],
   "source": [
    "list_4 = ['apple', 'banana', 'cherry', 'orange']\n",
    "\n",
    "list_4.count(\"apple\")"
   ]
  },
  {
   "cell_type": "code",
   "execution_count": 73,
   "metadata": {},
   "outputs": [
    {
     "data": {
      "text/plain": [
       "2"
      ]
     },
     "execution_count": 73,
     "metadata": {},
     "output_type": "execute_result"
    }
   ],
   "source": [
    "list_4 = [1,2,3,3,4,5,6,7]\n",
    "\n",
    "list_4.count(3)"
   ]
  },
  {
   "cell_type": "markdown",
   "metadata": {},
   "source": [
    "12.\tProgram to find sum and average of List in Python"
   ]
  },
  {
   "cell_type": "code",
   "execution_count": 8,
   "metadata": {},
   "outputs": [
    {
     "name": "stdout",
     "output_type": "stream",
     "text": [
      "sum 0f the list 21\n",
      "Average of the list  3.5\n"
     ]
    }
   ],
   "source": [
    "_list = [1,2,3,4,5,6]\n",
    "\n",
    "Sum =0\n",
    "\n",
    "for i in _list:\n",
    "    Sum += i\n",
    "\n",
    "print(\"sum 0f the list\" , Sum)\n",
    "\n",
    "avg = Sum / len(_list)\n",
    "\n",
    "print(\"Average of the list \" , avg)\n",
    "\n"
   ]
  },
  {
   "cell_type": "markdown",
   "metadata": {},
   "source": [
    "13.\tSum of number digits in List"
   ]
  },
  {
   "cell_type": "code",
   "execution_count": 9,
   "metadata": {},
   "outputs": [
    {
     "name": "stdout",
     "output_type": "stream",
     "text": [
      "sum 0f the list 21\n"
     ]
    }
   ],
   "source": [
    "List = [1,2,3,4,5,6]\n",
    "\n",
    "Sum =0\n",
    "\n",
    "for i in List:\n",
    "    Sum += i\n",
    "\n",
    "print(\"sum 0f the list\" , Sum)"
   ]
  },
  {
   "cell_type": "markdown",
   "metadata": {},
   "source": [
    "14.\tMultiply all numbers in the list"
   ]
  },
  {
   "cell_type": "code",
   "execution_count": 12,
   "metadata": {},
   "outputs": [
    {
     "name": "stdout",
     "output_type": "stream",
     "text": [
      "720\n"
     ]
    }
   ],
   "source": [
    "List = [1,2,3,4,5,6]\n",
    "\n",
    "mul =1\n",
    "\n",
    "for i in List:\n",
    "    mul *=i\n",
    "\n",
    "print(mul)"
   ]
  },
  {
   "cell_type": "markdown",
   "metadata": {},
   "source": [
    "15.\tProgram to find smallest number in a list"
   ]
  },
  {
   "cell_type": "code",
   "execution_count": 16,
   "metadata": {},
   "outputs": [
    {
     "name": "stdout",
     "output_type": "stream",
     "text": [
      "0.5\n"
     ]
    }
   ],
   "source": [
    "List = [1,2,3,4,5,6 , .5]\n",
    "\n",
    "List.sort()\n",
    "print(List[0])"
   ]
  },
  {
   "cell_type": "markdown",
   "metadata": {},
   "source": [
    "16.\tProgram to find largest number in a list"
   ]
  },
  {
   "cell_type": "code",
   "execution_count": 17,
   "metadata": {},
   "outputs": [
    {
     "name": "stdout",
     "output_type": "stream",
     "text": [
      "6\n"
     ]
    }
   ],
   "source": [
    "List = [1,2,3,4,5,6 , .5]\n",
    "\n",
    "List.sort(reverse= True)\n",
    "print(List[0])"
   ]
  },
  {
   "cell_type": "code",
   "execution_count": 18,
   "metadata": {},
   "outputs": [
    {
     "name": "stdout",
     "output_type": "stream",
     "text": [
      "6\n"
     ]
    }
   ],
   "source": [
    "List = [1,2,3,4,5,6 , .5]\n",
    "\n",
    "List.sort()\n",
    "\n",
    "print(List[len(List) -1])"
   ]
  },
  {
   "cell_type": "markdown",
   "metadata": {},
   "source": [
    "17.\tProgram to find second largest number in a list"
   ]
  },
  {
   "cell_type": "code",
   "execution_count": 19,
   "metadata": {},
   "outputs": [
    {
     "name": "stdout",
     "output_type": "stream",
     "text": [
      "5\n"
     ]
    }
   ],
   "source": [
    "List = [1,2,3,4,5,6 , .5]\n",
    "\n",
    "List.sort(reverse= True)\n",
    "print(List[1])"
   ]
  },
  {
   "cell_type": "code",
   "execution_count": 20,
   "metadata": {},
   "outputs": [
    {
     "name": "stdout",
     "output_type": "stream",
     "text": [
      "5\n"
     ]
    }
   ],
   "source": [
    "List = [1,2,3,4,5,6 , .5]\n",
    "\n",
    "List.sort()\n",
    "\n",
    "print(List[len(List) -2])"
   ]
  },
  {
   "cell_type": "markdown",
   "metadata": {},
   "source": [
    "18.\tProgram to print even numbers in a list"
   ]
  },
  {
   "cell_type": "code",
   "execution_count": 2,
   "metadata": {},
   "outputs": [
    {
     "name": "stdout",
     "output_type": "stream",
     "text": [
      "2\n",
      "4\n",
      "6\n",
      "8\n"
     ]
    }
   ],
   "source": [
    "List = [ 1,2,3,4,5,6,7,8,9]\n",
    "\n",
    "for x in List :\n",
    "    if  x % 2 == 0 :\n",
    "        print(x)\n",
    "\n",
    "\n"
   ]
  },
  {
   "cell_type": "markdown",
   "metadata": {},
   "source": [
    "19.\tProgram to print odd numbers in a List"
   ]
  },
  {
   "cell_type": "code",
   "execution_count": 3,
   "metadata": {},
   "outputs": [
    {
     "name": "stdout",
     "output_type": "stream",
     "text": [
      "1\n",
      "3\n",
      "5\n",
      "7\n",
      "9\n"
     ]
    }
   ],
   "source": [
    "List = [ 1,2,3,4,5,6,7,8,9]\n",
    "\n",
    "for x in List :\n",
    "    if  x % 2 != 0 :\n",
    "        print(x)\n"
   ]
  },
  {
   "cell_type": "markdown",
   "metadata": {},
   "source": [
    "20.\tProgram to print all even numbers in a range"
   ]
  },
  {
   "cell_type": "code",
   "execution_count": null,
   "metadata": {},
   "outputs": [
    {
     "name": "stdout",
     "output_type": "stream",
     "text": [
      "0\n",
      "2\n",
      "4\n",
      "6\n",
      "8\n",
      "10\n",
      "12\n",
      "14\n",
      "16\n",
      "18\n",
      "20\n",
      "22\n",
      "24\n",
      "26\n",
      "28\n",
      "30\n",
      "32\n",
      "34\n",
      "36\n",
      "38\n",
      "40\n",
      "42\n",
      "44\n"
     ]
    }
   ],
   "source": [
    "num = int(input('number'))\n",
    "\n",
    "for i in range(num):\n",
    "    if i %2 == 0 :\n",
    "        print(i)"
   ]
  },
  {
   "cell_type": "markdown",
   "metadata": {},
   "source": [
    "21.\tProgram to print all odd numbers in a range"
   ]
  },
  {
   "cell_type": "code",
   "execution_count": 5,
   "metadata": {},
   "outputs": [
    {
     "name": "stdout",
     "output_type": "stream",
     "text": [
      "1\n",
      "3\n",
      "5\n",
      "7\n"
     ]
    }
   ],
   "source": [
    "num = int(input('number'))\n",
    "\n",
    "for i in range(num):\n",
    "    if i %2 != 0 :\n",
    "        print(i)"
   ]
  },
  {
   "cell_type": "markdown",
   "metadata": {},
   "source": [
    "22.\tProgram to count Even and Odd numbers in a List"
   ]
  },
  {
   "cell_type": "code",
   "execution_count": 11,
   "metadata": {},
   "outputs": [
    {
     "name": "stdout",
     "output_type": "stream",
     "text": [
      "even 23\n",
      "odd 22\n"
     ]
    }
   ],
   "source": [
    "num = int(input('number'))\n",
    "\n",
    "count = 0\n",
    "\n",
    "for i in range(num):\n",
    "    if i %2 == 0 :\n",
    "        count +=1\n",
    "print( \"even\" ,  count )\n",
    "print( \"odd\" ,  num-count )\n"
   ]
  },
  {
   "cell_type": "markdown",
   "metadata": {},
   "source": [
    "23.\tProgram to print positive numbers in a list"
   ]
  },
  {
   "cell_type": "code",
   "execution_count": 13,
   "metadata": {},
   "outputs": [
    {
     "name": "stdout",
     "output_type": "stream",
     "text": [
      "1\n",
      "2\n",
      "3\n"
     ]
    }
   ],
   "source": [
    "List = [ 1,2,3,-1,-8,-5,-46]\n",
    "\n",
    "for i in List:\n",
    "    if i >0:\n",
    "        print(i)"
   ]
  },
  {
   "cell_type": "markdown",
   "metadata": {},
   "source": [
    "24.\tProgram to print negative numbers in a list"
   ]
  },
  {
   "cell_type": "code",
   "execution_count": null,
   "metadata": {},
   "outputs": [
    {
     "name": "stdout",
     "output_type": "stream",
     "text": [
      "-1\n",
      "-8\n",
      "-5\n",
      "-46\n"
     ]
    }
   ],
   "source": [
    "List = [ 1,2,3,-1,-8,-5,-46]\n",
    "\n",
    "for i in List:\n",
    "    if i <0:\n",
    "        print(i)"
   ]
  },
  {
   "cell_type": "markdown",
   "metadata": {},
   "source": [
    "25.\tProgram to print all positive numbers in a range "
   ]
  },
  {
   "cell_type": "code",
   "execution_count": 14,
   "metadata": {},
   "outputs": [
    {
     "name": "stdout",
     "output_type": "stream",
     "text": [
      "1\n",
      "2\n",
      "3\n",
      "4\n",
      "5\n",
      "6\n",
      "7\n",
      "8\n",
      "9\n"
     ]
    }
   ],
   "source": [
    "\n",
    "\n",
    "for i in range(-10 , 10 ):\n",
    "    if i >0:\n",
    "        print(i)"
   ]
  },
  {
   "cell_type": "markdown",
   "metadata": {},
   "source": [
    "26.\tProgram to print all negative numbers in a range"
   ]
  },
  {
   "cell_type": "code",
   "execution_count": 12,
   "metadata": {},
   "outputs": [
    {
     "name": "stdout",
     "output_type": "stream",
     "text": [
      "-10 -9 -8 -7 -6 -5 -4 -3 -2 -1 "
     ]
    }
   ],
   "source": [
    "for i in range(-10,10):\n",
    "    if i <0:\n",
    "        print(i, end=\" \")"
   ]
  },
  {
   "cell_type": "markdown",
   "metadata": {},
   "source": [
    "27.\tProgram to count positive and negative numbers in a list"
   ]
  },
  {
   "cell_type": "code",
   "execution_count": 2,
   "metadata": {},
   "outputs": [
    {
     "name": "stdout",
     "output_type": "stream",
     "text": [
      "posstive 3\n",
      "negtive  4\n"
     ]
    }
   ],
   "source": [
    "List = [ 1,2,3,-1,-8,-5,-46]\n",
    "\n",
    "count = 0\n",
    "\n",
    "for i in List:\n",
    "    if i >0:\n",
    "        count+=1\n",
    "\n",
    "print('posstive', count)\n",
    "print('negtive ' , len(List)-count)"
   ]
  },
  {
   "cell_type": "markdown",
   "metadata": {},
   "source": [
    "28.\tRemove multiple elements from a list in Python"
   ]
  },
  {
   "cell_type": "code",
   "execution_count": 16,
   "metadata": {},
   "outputs": [
    {
     "name": "stdout",
     "output_type": "stream",
     "text": [
      "[1, 3, -1, -8, -5, -46]\n",
      "[1, -1, -8, -5, -46]\n",
      "[-1, -8, -5, -46]\n",
      "[-8, -5, -46]\n"
     ]
    }
   ],
   "source": [
    "List = [ 1,2,3,-1,-8,-5,-46] \n",
    "\n",
    "st =( \" \")\n",
    "while st !='exit':\n",
    "    st =  input(\" 'exit' to quit: 1 to continune \")\n",
    "    if st == 'exit':\n",
    "        break\n",
    "    else:\n",
    "        List.remove(int(st))\n",
    "        print(List)\n",
    "\n"
   ]
  },
  {
   "cell_type": "markdown",
   "metadata": {},
   "source": [
    "29.\tRemove empty tuples from a list "
   ]
  },
  {
   "cell_type": "code",
   "execution_count": 14,
   "metadata": {},
   "outputs": [
    {
     "name": "stdout",
     "output_type": "stream",
     "text": [
      "[('nitin', 2, 3, 32, 232), ('khushi', 434, 324324, 23, 43), ('sunny', 2334, 'nihal'), ('suneet', 'paul'), 343]\n"
     ]
    }
   ],
   "source": [
    "List=[('nitin',2,3,32,232),(), ('khushi',434,324324,23,43),(),('sunny',2334,'nihal'), (),('suneet', 'paul'),(),(343)]\n",
    "for i in List:\n",
    "    if (i==()):\n",
    "      List.remove(i)\n",
    "print(List)"
   ]
  },
  {
   "cell_type": "markdown",
   "metadata": {},
   "source": [
    "30.\tProgram to print duplicates from a list of integers"
   ]
  },
  {
   "cell_type": "code",
   "execution_count": 18,
   "metadata": {},
   "outputs": [
    {
     "name": "stdout",
     "output_type": "stream",
     "text": [
      "Duplicates: [2, 3, 1]\n"
     ]
    }
   ],
   "source": [
    "numbers = [1, 2, 3, 4, 5, 2, 3, 6, 7, 1]\n",
    "duplicates = []  \n",
    "seen = []  \n",
    "for i in numbers :\n",
    "    if i in seen:\n",
    "        if i not in duplicates:  \n",
    "            duplicates.append(i)  \n",
    "    else:\n",
    "        seen.append(i)  \n",
    "\n",
    "\n",
    "print(\"Duplicates:\", duplicates)"
   ]
  }
 ],
 "metadata": {
  "kernelspec": {
   "display_name": "base",
   "language": "python",
   "name": "python3"
  },
  "language_info": {
   "codemirror_mode": {
    "name": "ipython",
    "version": 3
   },
   "file_extension": ".py",
   "mimetype": "text/x-python",
   "name": "python",
   "nbconvert_exporter": "python",
   "pygments_lexer": "ipython3",
   "version": "3.12.4"
  }
 },
 "nbformat": 4,
 "nbformat_minor": 2
}
