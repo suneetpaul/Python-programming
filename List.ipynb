{
 "cells": [
  {
   "cell_type": "markdown",
   "metadata": {},
   "source": [
    "[                                  L - I -  S -  T                        ]"
   ]
  },
  {
   "cell_type": "markdown",
   "metadata": {},
   "source": [
    "append()    \tAdds an element at the end of the list\n",
    "\n",
    "clear()\t        Removes all the elements from the list\n",
    "\n",
    "copy()      \tReturns a copy of the list\n",
    "\n",
    "count()     \tReturns the number of elements with the specified value\n",
    "\n",
    "extend()    \tAdd the elements of a list (or any iterable), to the end of the current list\n",
    "\n",
    "index()\t        Returns the index of the first element with the specified value\n",
    "\n",
    "insert()    \tAdds an element at the specified position\n",
    "\n",
    "pop()\t        Removes the element at the specified position\n",
    "\n",
    "remove()       \tRemoves the item with the specified value\n",
    "\n",
    "reverse()   \tReverses the order of the list\n",
    "\t\n",
    "sort()          Sorts the list"
   ]
  },
  {
   "cell_type": "markdown",
   "metadata": {},
   "source": [
    "."
   ]
  },
  {
   "cell_type": "markdown",
   "metadata": {},
   "source": [
    "."
   ]
  },
  {
   "cell_type": "markdown",
   "metadata": {},
   "source": [
    "{                A  C   C   E   S   S    --       I   T   E   M   S                  }"
   ]
  },
  {
   "cell_type": "code",
   "execution_count": 90,
   "metadata": {},
   "outputs": [
    {
     "name": "stdout",
     "output_type": "stream",
     "text": [
      "sql \n"
     ]
    }
   ],
   "source": [
    "course = ['python ', 'sql ', 'stats', 'algo', 'execl', 'tcs', 'inforsys', 'wipro']\n",
    "print(course[1])"
   ]
  },
  {
   "cell_type": "markdown",
   "metadata": {},
   "source": [
    "Negative  --  INDEX "
   ]
  },
  {
   "cell_type": "code",
   "execution_count": 91,
   "metadata": {},
   "outputs": [
    {
     "name": "stdout",
     "output_type": "stream",
     "text": [
      "wipro\n"
     ]
    }
   ],
   "source": [
    "course =  ['python ', 'sql ', 'stats', 'algo', 'execl', 'tcs', 'inforsys', 'wipro']\n",
    "print(course[-1])"
   ]
  },
  {
   "cell_type": "markdown",
   "metadata": {},
   "source": [
    "RANGE --  OF --  INDEXING \n"
   ]
  },
  {
   "cell_type": "code",
   "execution_count": 92,
   "metadata": {},
   "outputs": [
    {
     "name": "stdout",
     "output_type": "stream",
     "text": [
      "['sql ', 'stats', 'algo', 'execl', 'tcs']\n"
     ]
    }
   ],
   "source": [
    "course =  ['python ', 'sql ', 'stats', 'algo', 'execl', 'tcs', 'inforsys', 'wipro']\n",
    "print(course[1:6])\n"
   ]
  },
  {
   "cell_type": "code",
   "execution_count": 93,
   "metadata": {},
   "outputs": [
    {
     "name": "stdout",
     "output_type": "stream",
     "text": [
      "['python ', 'sql ', 'stats', 'algo', 'execl', 'tcs']\n"
     ]
    }
   ],
   "source": [
    "course =  ['python ', 'sql ', 'stats', 'algo', 'execl', 'tcs', 'inforsys', 'wipro']\n",
    "print(course[:6])"
   ]
  },
  {
   "cell_type": "code",
   "execution_count": 94,
   "metadata": {},
   "outputs": [
    {
     "name": "stdout",
     "output_type": "stream",
     "text": [
      "['tcs', 'inforsys', 'wipro']\n"
     ]
    }
   ],
   "source": [
    "course =  ['python ', 'sql ', 'stats', 'algo', 'execl', 'tcs', 'inforsys', 'wipro']\n",
    "print(course[5:])"
   ]
  },
  {
   "cell_type": "code",
   "execution_count": 95,
   "metadata": {},
   "outputs": [
    {
     "name": "stdout",
     "output_type": "stream",
     "text": [
      "['python ', 'sql ', 'stats']\n"
     ]
    }
   ],
   "source": [
    "course = ['python ', 'sql ', 'stats']\n",
    "\n",
    "print(course[:])"
   ]
  },
  {
   "cell_type": "markdown",
   "metadata": {},
   "source": [
    "{       R   a   n   g   e    --    o  f     --      N   e  g   a   t   i   v   e        --      I   N   D   E   X           }"
   ]
  },
  {
   "cell_type": "code",
   "execution_count": 96,
   "metadata": {},
   "outputs": [
    {
     "name": "stdout",
     "output_type": "stream",
     "text": [
      "['algo', 'execl']\n"
     ]
    }
   ],
   "source": [
    "course =  ['python ', 'sql ', 'stats', 'algo', 'execl', 'tcs', 'inforsys', 'wipro']\n",
    "print(course[-5:-3])"
   ]
  },
  {
   "cell_type": "code",
   "execution_count": 97,
   "metadata": {},
   "outputs": [
    {
     "name": "stdout",
     "output_type": "stream",
     "text": [
      "['algo', 'execl', 'tcs', 'inforsys', 'wipro']\n"
     ]
    }
   ],
   "source": [
    "course =  ['python ', 'sql ', 'stats', 'algo', 'execl', 'tcs', 'inforsys', 'wipro']\n",
    "print(course[-5:])"
   ]
  },
  {
   "cell_type": "code",
   "execution_count": 98,
   "metadata": {},
   "outputs": [
    {
     "name": "stdout",
     "output_type": "stream",
     "text": [
      "['python ', 'sql ', 'stats']\n"
     ]
    }
   ],
   "source": [
    "course =  ['python ', 'sql ', 'stats', 'algo', 'execl', 'tcs', 'inforsys', 'wipro']\n",
    "print(course[:-5])"
   ]
  },
  {
   "cell_type": "markdown",
   "metadata": {},
   "source": [
    "{                C  H   A   N   G   E       --     I   T   E   M     --      V  A   L   U   E                    }"
   ]
  },
  {
   "cell_type": "code",
   "execution_count": 3,
   "metadata": {},
   "outputs": [
    {
     "name": "stdout",
     "output_type": "stream",
     "text": [
      "['python ', 'data science', 'inforsys', 'wipro', 'stats']\n"
     ]
    }
   ],
   "source": [
    "course = ['python ', 'sql ', 'stats']\n",
    "\n",
    "course[1:2]  = ['data science','inforsys', 'wipro']\n",
    "\n",
    "print(course)\n"
   ]
  },
  {
   "cell_type": "markdown",
   "metadata": {},
   "source": [
    "CHANGE --  SINGLE --  ITEM (DATA)  --  WITH -- MULTI -- DATA "
   ]
  },
  {
   "cell_type": "code",
   "execution_count": 100,
   "metadata": {},
   "outputs": [
    {
     "name": "stdout",
     "output_type": "stream",
     "text": [
      "['python ', 'data science', 'inforsys', 'wipro', 'stats']\n"
     ]
    }
   ],
   "source": [
    "course = ['python ', 'sql ', 'stats']\n",
    "\n",
    "course[1:2]  = ['data science','inforsys', 'wipro']\n",
    "\n",
    "print(course)\n"
   ]
  },
  {
   "cell_type": "code",
   "execution_count": 101,
   "metadata": {},
   "outputs": [
    {
     "name": "stdout",
     "output_type": "stream",
     "text": [
      "['data science', 'inforsys', 'wipro']\n"
     ]
    }
   ],
   "source": [
    "course = ['python ', 'sql ', 'stats']\n",
    "\n",
    "course[0:]  = ['data science','inforsys', 'wipro']\n",
    "\n",
    "print(course)"
   ]
  },
  {
   "cell_type": "code",
   "execution_count": 102,
   "metadata": {},
   "outputs": [
    {
     "ename": "SyntaxError",
     "evalue": "invalid syntax (239321833.py, line 3)",
     "output_type": "error",
     "traceback": [
      "\u001b[1;36m  Cell \u001b[1;32mIn[102], line 3\u001b[1;36m\u001b[0m\n\u001b[1;33m    course[]  = ['data science','inforsys', 'wipro']\u001b[0m\n\u001b[1;37m           ^\u001b[0m\n\u001b[1;31mSyntaxError\u001b[0m\u001b[1;31m:\u001b[0m invalid syntax\n"
     ]
    }
   ],
   "source": [
    "course = ['python ', 'sql ', 'stats']\n",
    "\n",
    "course[]  = ['data science','inforsys', 'wipro']\n",
    "\n",
    "print(course)"
   ]
  },
  {
   "cell_type": "code",
   "execution_count": 88,
   "metadata": {},
   "outputs": [
    {
     "name": "stdout",
     "output_type": "stream",
     "text": [
      "['data science', 'inforsys', 'wipro']\n"
     ]
    }
   ],
   "source": [
    "course = ['python ', 'sql ', 'stats']\n",
    "\n",
    "course[:]  = ['data science','inforsys', 'wipro']\n",
    "\n",
    "print(course)"
   ]
  },
  {
   "cell_type": "markdown",
   "metadata": {},
   "source": [
    "{               S   O   R   T       --     M  E   T   H   O   D                       }\n"
   ]
  },
  {
   "cell_type": "code",
   "execution_count": 2,
   "metadata": {},
   "outputs": [
    {
     "name": "stdout",
     "output_type": "stream",
     "text": [
      "['algo', 'execl', 'inforsys', 'python ', 'sql ', 'stats', 'tcs', 'wipro']\n"
     ]
    }
   ],
   "source": [
    "course =  ['python ', 'sql ', 'stats', 'algo', 'execl', 'tcs', 'inforsys', 'wipro']\n",
    "course.sort()\n",
    "\n",
    "print(course)"
   ]
  },
  {
   "cell_type": "markdown",
   "metadata": {},
   "source": [
    "{                S  O   R   T   --   M  E   T   H   O   D   --   W  I   T   H  --    R  E   V   E   R  S    E                    }"
   ]
  },
  {
   "cell_type": "code",
   "execution_count": 74,
   "metadata": {},
   "outputs": [
    {
     "name": "stdout",
     "output_type": "stream",
     "text": [
      "['wipro', 'tcs', 'stats', 'sql ', 'python ', 'inforsys', 'execl', 'algo']\n"
     ]
    }
   ],
   "source": [
    "course =  ['python ', 'sql ', 'stats', 'algo', 'execl', 'tcs', 'inforsys', 'wipro']\n",
    "course.sort(reverse = True)\n",
    "print(course)"
   ]
  },
  {
   "cell_type": "markdown",
   "metadata": {},
   "source": [
    "{               C   O   P   Y                }"
   ]
  },
  {
   "cell_type": "code",
   "execution_count": 75,
   "metadata": {},
   "outputs": [
    {
     "name": "stdout",
     "output_type": "stream",
     "text": [
      "['python ', 'sql ', 'stats', 'algo', 'execl', 'tcs', 'inforsys', 'wipro']\n",
      "['python ', 'sql ', 'stats', 'algo', 'execl', 'tcs', 'inforsys', 'wipro']\n"
     ]
    }
   ],
   "source": [
    "course =  ['python ', 'sql ', 'stats', 'algo', 'execl', 'tcs', 'inforsys', 'wipro']\n",
    "listcop = course.copy()\n",
    "print(course)\n",
    "print(listcop)"
   ]
  },
  {
   "cell_type": "markdown",
   "metadata": {},
   "source": [
    "{               C   O   P   Y   --   W  I   T   H    --     L   I   S   T    --     M   E   T   H  O    D                  }"
   ]
  },
  {
   "cell_type": "code",
   "execution_count": 76,
   "metadata": {},
   "outputs": [
    {
     "name": "stdout",
     "output_type": "stream",
     "text": [
      "['python ', 'sql ', 'stats', 'algo', 'execl', 'tcs', 'inforsys', 'wipro']\n"
     ]
    }
   ],
   "source": [
    "course =  ['python ', 'sql ', 'stats', 'algo', 'execl', 'tcs', 'inforsys', 'wipro']\n",
    "listco = list(course) \n",
    "print(listco)"
   ]
  },
  {
   "cell_type": "markdown",
   "metadata": {},
   "source": [
    "ADD TO LIST IN THIRD VAR OR LIST"
   ]
  },
  {
   "cell_type": "code",
   "execution_count": 79,
   "metadata": {},
   "outputs": [
    {
     "name": "stdout",
     "output_type": "stream",
     "text": [
      "['python ', 'sql ', 'stats', 'tcs', 'inforsys', 'wipro']\n"
     ]
    }
   ],
   "source": [
    "course = ['python ', 'sql ', 'stats']\n",
    "company=['tcs','inforsys','wipro']\n",
    "lists =  course +  company\n",
    "\n",
    "print(lists)"
   ]
  },
  {
   "cell_type": "markdown",
   "metadata": {},
   "source": [
    "{                A P P E N D               }"
   ]
  },
  {
   "cell_type": "code",
   "execution_count": 80,
   "metadata": {},
   "outputs": [
    {
     "name": "stdout",
     "output_type": "stream",
     "text": [
      "['python ', 'sql ', 'stats', 'execl']\n"
     ]
    }
   ],
   "source": [
    "#append             # add in last row\n",
    "\n",
    "course.append('execl')\n",
    "print(course)"
   ]
  },
  {
   "cell_type": "markdown",
   "metadata": {},
   "source": [
    "{                I  N   S   E   R  T              }"
   ]
  },
  {
   "cell_type": "code",
   "execution_count": 81,
   "metadata": {},
   "outputs": [
    {
     "name": "stdout",
     "output_type": "stream",
     "text": [
      "['python ', 'sql ', 'stats', 'algo', 'execl']\n"
     ]
    }
   ],
   "source": [
    "#   insert data in the possiton index number \n",
    "\n",
    "course.insert(3,'algo')\n",
    "print(course)"
   ]
  },
  {
   "cell_type": "markdown",
   "metadata": {},
   "source": [
    "."
   ]
  },
  {
   "cell_type": "code",
   "execution_count": 82,
   "metadata": {},
   "outputs": [
    {
     "name": "stdout",
     "output_type": "stream",
     "text": [
      "['tcs', 'inforsys', 'wipro']\n"
     ]
    }
   ],
   "source": [
    "# second list \n",
    "course = ['python ', 'sql ', 'stats', 'algo', 'execl']\n",
    "\n",
    "company=['tcs','inforsys','wipro']\n",
    "print(company)"
   ]
  },
  {
   "cell_type": "markdown",
   "metadata": {},
   "source": [
    "{                    E  X   T   E   N   D                 }"
   ]
  },
  {
   "cell_type": "code",
   "execution_count": 83,
   "metadata": {},
   "outputs": [
    {
     "name": "stdout",
     "output_type": "stream",
     "text": [
      "['python ', 'sql ', 'stats', 'algo', 'execl', 'tcs', 'inforsys', 'wipro']\n"
     ]
    }
   ],
   "source": [
    "#       connect two list in one list \n",
    "#  course +  compay   ( company data add in course list +)\n",
    "\n",
    "course.extend(company)\n",
    "print(course)"
   ]
  },
  {
   "cell_type": "markdown",
   "metadata": {},
   "source": [
    "{                   R  E   M   O   V   E                 }"
   ]
  },
  {
   "cell_type": "code",
   "execution_count": 84,
   "metadata": {},
   "outputs": [
    {
     "name": "stdout",
     "output_type": "stream",
     "text": [
      "['python ', 'sql ', 'stats', 'algo', 'algo', 'execl', 'tcs', 'inforsys', 'wipro']\n"
     ]
    }
   ],
   "source": [
    "# remove   ( remove that item from the  list )\n",
    "\n",
    "course =['python ', 'sql ', 'stats', 'algo', 'algo', 'execl', 'execl', 'tcs', 'inforsys', 'wipro']\n",
    "\n",
    "course.remove('execl')\n",
    "print(course)\n"
   ]
  },
  {
   "cell_type": "markdown",
   "metadata": {},
   "source": [
    "{                               P --  O  --  P                               }  "
   ]
  },
  {
   "cell_type": "code",
   "execution_count": 85,
   "metadata": {},
   "outputs": [
    {
     "name": "stdout",
     "output_type": "stream",
     "text": [
      "['python ', 'sql ', 'stats', 'algo', 'execl', 'tcs', 'inforsys', 'wipro']\n"
     ]
    }
   ],
   "source": [
    "#  pop(_)        (   remove   that    element     that    item    from    list   )\n",
    "course.pop(3)\n",
    "print(course)"
   ]
  },
  {
   "cell_type": "code",
   "execution_count": 86,
   "metadata": {},
   "outputs": [
    {
     "name": "stdout",
     "output_type": "stream",
     "text": [
      "['python ', 'sql ', 'stats', 'algo', 'execl', 'tcs', 'inforsys']\n"
     ]
    }
   ],
   "source": [
    "#  pop()        (   remove   last   element    from    list   )\n",
    "\n",
    "course.pop()\n",
    "print(course)"
   ]
  }
 ],
 "metadata": {
  "kernelspec": {
   "display_name": "base",
   "language": "python",
   "name": "python3"
  },
  "language_info": {
   "codemirror_mode": {
    "name": "ipython",
    "version": 3
   },
   "file_extension": ".py",
   "mimetype": "text/x-python",
   "name": "python",
   "nbconvert_exporter": "python",
   "pygments_lexer": "ipython3",
   "version": "3.12.4"
  }
 },
 "nbformat": 4,
 "nbformat_minor": 2
}
